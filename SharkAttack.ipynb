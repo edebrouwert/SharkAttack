{
  "nbformat": 4,
  "nbformat_minor": 0,
  "metadata": {
    "colab": {
      "provenance": []
    },
    "kernelspec": {
      "name": "python3",
      "display_name": "Python 3"
    },
    "language_info": {
      "name": "python"
    }
  },
  "cells": [
    {
      "cell_type": "code",
      "execution_count": 42,
      "metadata": {
        "id": "qVgHkrIi8rxJ"
      },
      "outputs": [],
      "source": [
        "# what are the most dangerous types of sharks to humans?\n",
        "# histogram met aantal aanvallen per type haai\n",
        "\n",
        "# are children more likely to be attacked by sharks?\n",
        "# are shark attacks where sharks were provoked more or less dangerous?\n",
        "# are certain activities more likely to result in a shark attack?"
      ]
    },
    {
      "cell_type": "markdown",
      "source": [
        "# Imports and ingesting data"
      ],
      "metadata": {
        "id": "w1WMDqfuWy_0"
      }
    },
    {
      "cell_type": "code",
      "source": [
        "import pandas as pd\n",
        "import matplotlib.pyplot as plt\n",
        "import numpy as np\n",
        "\n",
        "df = pd.read_csv(\"https://raw.githubusercontent.com/edebrouwert/SharkAttack/main/attacks.csv\", encoding='cp1252')\n",
        "\n",
        "#drop unnecessary columns. To answer the questions, we only need columns Type, Activity, Age, Fatal (maybe) and Species\n",
        "df.drop(columns=[\"Country\", \"Area\", \"Location\", \"Date\", \"Year\", \"Time\", \"Name\", \"Sex \", \"Injury\", \"Investigator or Source\", \"pdf\", \"href formula\", \"href\", \"Case Number.1\", \"Case Number.2\", \"original order\", \"Unnamed: 22\", \"Unnamed: 23\" ], inplace=True)\n",
        "\n",
        "#Rename some columns\n",
        "df.rename(columns= {\"Fatal (Y/N)\": \"Fatal\", \"Species \": \"Species\"}, inplace=True)\n",
        "\n",
        "#Check average null values per column\n",
        "\n",
        "df.isnull().mean()"
      ],
      "metadata": {
        "id": "PBaaB-zD-L7e",
        "colab": {
          "base_uri": "https://localhost:8080/"
        },
        "outputId": "ba94e6f5-2cfa-4b17-8216-44498248dfce"
      },
      "execution_count": 43,
      "outputs": [
        {
          "output_type": "execute_result",
          "data": {
            "text/plain": [
              "Case Number    0.661704\n",
              "Type           0.755161\n",
              "Activity       0.776154\n",
              "Age            0.865062\n",
              "Fatal          0.775959\n",
              "Species        0.865335\n",
              "dtype: float64"
            ]
          },
          "metadata": {},
          "execution_count": 43
        }
      ]
    },
    {
      "cell_type": "markdown",
      "source": [
        "# Define functions for finding and replacing missing values"
      ],
      "metadata": {
        "id": "HJxIRa1FWogu"
      }
    },
    {
      "cell_type": "code",
      "source": [
        "\n",
        "def print_separator(sep, num, msg):\n",
        "  print(\"\\n\")\n",
        "  print(sep * num)\n",
        "  print(f\"{msg}\")\n",
        "  print(sep * num)\n",
        "\n",
        "def look_at_unique_values(column): \n",
        "  unique_values_cutoff = 160\n",
        "  unique_values = column.unique()\n",
        "  num_unique_values = len(unique_values)\n",
        "  if num_unique_values == len(column):\n",
        "    print(f\"Each value in the column is unique (total: {num_unique_values})\")\n",
        "  elif num_unique_values < unique_values_cutoff:\n",
        "    print(f\"Less than {unique_values_cutoff} unique values:\")\n",
        "    # We may get an error when sorting\n",
        "    try:\n",
        "      sorted = np.sort(unique_values)\n",
        "      print(\"Values are sorted\")\n",
        "      display(list(sorted))\n",
        "    except:\n",
        "      print(\"Could not sort values\")\n",
        "      display(list(unique_values))\n",
        "  else:\n",
        "    print(f\"More than {unique_values_cutoff}\")\n",
        "\n",
        "def look_at_edges(df, column_name):\n",
        "  # inner function\n",
        "  def show_head_and_tail(values):\n",
        "      num_items_to_slice = 10\n",
        "      display(list(values)[:num_items_to_slice])\n",
        "      display(list(values)[-num_items_to_slice:])\n",
        "\n",
        "  column = df[column_name]\n",
        "  unique_values = column.unique()\n",
        "  try:\n",
        "      sorted = np.sort(unique_values)\n",
        "      print(\"Unique values sorted, head and tail:\")\n",
        "      show_head_and_tail(sorted)\n",
        "  except TypeError as error:\n",
        "      print(f\"Could not sort values: {error}\")\n",
        "      print(\"..so let's try filtering NULL values and then sorting\")\n",
        "      non_null_uniques = df.loc[~df[column_name].isnull(), column_name].unique()\n",
        "      sorted = np.sort(non_null_uniques)\n",
        "      show_head_and_tail(sorted)\n",
        "      #possibly you will get an error here. \n",
        "      #Then you know that there is at least one value with a data type that's different than the rest\n",
        "\n",
        "\n",
        "def cast_to_type(column, maybe_type):\n",
        "  try:\n",
        "    column.astype(maybe_type)\n",
        "    print(f\"Casting to {maybe_type} was successful\")\n",
        "  except ValueError as error:\n",
        "    print(f\"Could not cast to {maybe_type}: {error}\")\n",
        "\n",
        "def find_non_default_missing_values(df, column_name, maybe_type):\n",
        "  long_separator_amount = 80\n",
        "  short_separator_amount = 40\n",
        "\n",
        "  print_separator(\"*\", long_separator_amount, f\"Finding non default missing values for column \\\"{column_name}\\\"\")\n",
        "\n",
        "  print(f\"Column \\\"{column_name}\\\" has datatype: {df.dtypes[column_name]}\")\n",
        "\n",
        "  column = df[column_name]  \n",
        "\n",
        "   # A\n",
        "  print_separator(\"-\", short_separator_amount, \"A: Looking at unique values\")\n",
        "  look_at_unique_values(column)\n",
        "\n",
        "  # B\n",
        "  print_separator(\"-\", short_separator_amount, \"B: Sorting and looking at the edges\")\n",
        "  look_at_edges(df, column_name)\n",
        "\n",
        "  # C\n",
        "  print_separator(\"-\", short_separator_amount, f\"C: Casting to type: {maybe_type}\")\n",
        "  cast_to_type(column, maybe_type)\n",
        "\n",
        "  # D\n",
        "  print_separator(\"-\", short_separator_amount, \"D: Looking at frequency\")\n",
        "  display(column.value_counts(dropna=False))\n",
        "\n",
        "  print(\"\\n\")\n",
        "\n",
        "def replace_value(df, column_name, missing_old, missing_new):\n",
        "  # ⚠️ Mutates df\n",
        "  df[column_name] = df[column_name].replace({missing_old: missing_new})\n",
        "\n",
        "\n"
      ],
      "metadata": {
        "id": "EPJvZ4yjG4LR"
      },
      "execution_count": 44,
      "outputs": []
    },
    {
      "cell_type": "markdown",
      "source": [
        "# Clean data per column"
      ],
      "metadata": {
        "id": "gGETzYLdWfiU"
      }
    },
    {
      "cell_type": "code",
      "source": [
        "#find_non_default_missing_values(df, \"Type\", \"string\")\n",
        "#find_non_default_missing_values(df, \"Activity\", \"string\")\n",
        "#find_non_default_missing_values(df, \"Age\", \"int\")\n",
        "#find_non_default_missing_values(df, \"Fatal\", \"bool\")\n",
        "#find_non_default_missing_values(df, \"Species\", \"string\")\n",
        "\n",
        "\n",
        "#Clean Activity column\n",
        "replace_value(df, \"Activity\", \" \", None)\n",
        "replace_value(df, \"Activity\", \"  \", None)\n",
        "replace_value(df, \"Activity\", \".\", None)\n",
        "\n",
        "#Clean Age column. This column has many non-int values. We're replacing these with np.nan.\n",
        "df[\"Age\"] = pd.to_numeric(df[\"Age\"], errors ='coerce').astype(\"Int64\")\n",
        "\n",
        "#Clean Fatal column. I assume everything that had an empty value or another value was not fatal. Except value \"y\", which was probably a mistyped therefore is replaced beplace_value(df, \"Fatal\", np.nan, \"N\")\n",
        "replace_value(df, \"Fatal\", \" N\", \"N\")\n",
        "replace_value(df, \"Fatal\", \"N \", \"N\")\n",
        "replace_value(df, \"Fatal\", \"UNKNOWN\", \"N\")\n",
        "replace_value(df, \"Fatal\", \"2017\", \"N\")\n",
        "replace_value(df, \"Fatal\", \"M\", \"N\")\n",
        "replace_value(df, \"Fatal\", \"y\",\"Y\")\n",
        "\n",
        "find_non_default_missing_values(df, \"Fatal\", \"bool\")\n",
        "\n",
        "#Clean Species column. There are many cases where shark involvement was not confirmed.\n",
        "#The rows where shark involvement was not confirmed are left out, because we are only interested in confirmed shark attacks\n",
        "\n",
        "df = df.loc[~df.Species.str.contains(\"Shark involvement\", na=False)]\n",
        "\n",
        "#Replace the \"invalid\" and Questionable type with a default None missing value\n",
        "replace_value(df, \"Species\", \"Invalid\", None)\n",
        "replace_value(df, \"Species\", \"Questionable\", None)\n",
        "replace_value(df, \"Species\", \"Questionable incident\", None)\n",
        "\n",
        "\n",
        "#There are many entries which contain the word \"Bull shark\". When we only count the \"Bull shark\" values, we get 40 entries. \n",
        "df.loc[df.Species.str.contains(\"Bull shark\", na=False, case=False)] #do this to check how many entries we get, case insensitive\n",
        "\n",
        "#When we include all strings which cointain substring \"Bull shark\", we get 180 entries. So we say every entry with substring \"Bull shark\" is of species \"Bull shark\"\n",
        "df.loc[df.Species.str.contains(\"Bull shark\", na=False, case=False), \"Species\"] = \"Bull shark\"\n",
        "\n",
        "\n",
        "#Do the same for white sharks\n",
        "df.loc[df.Species.str.contains(\"White shark\", na=False, case=False)] #do this to check how many entries we get, case insensitive\n",
        "#Replace all strings containing \"white shark\" with \"White shark\". \n",
        "df.loc[df.Species.str.contains(\"White shark\", na=False, case=False), \"Species\"] = \"White shark\"\n",
        "\n",
        "#Do the same for tiger sharks\n",
        "df.loc[df.Species.str.contains(\"Tiger shark\", na=False, case=False)] #do this to check how many entries we get, case insensitive\n",
        "#Replace all strings containing \"white shark\" with \"White shark\". \n",
        "df.loc[df.Species.str.contains(\"Tiger shark\", na=False, case=False), \"Species\"] = \"Tiger shark\"\n",
        "\n",
        "#Do the same for reef sharks. Different types of reef sharks exist, but we all group them to one species called \"Reef shark\"\n",
        "df.loc[df.Species.str.contains(\"Reef shark\", na=False, case=False)] #do this to check how many entries we get, case insensitive\n",
        "#Replace all strings containing \"reef shark\" with \"Reef shark\"\n",
        "df.loc[df.Species.str.contains(\"Reef shark\", na=False, case=False), \"Species\"] = \"Reef shark\"\n",
        "find_non_default_missing_values(df, \"Species\", \"string\")\n",
        "\n",
        "#exploring the data, we could also see lemon shark\n",
        "df.loc[df.Species.str.contains(\"Lemon shark\", na=False, case=False)]\n",
        "#Replace all strings containing \"reef shark\" with \"Reef shark\"\n",
        "df.loc[df.Species.str.contains(\"Lemon shark\", na=False, case=False), \"Species\"] = \"Lemon shark\"\n",
        "\n",
        "#Throw away all rows with only missing values, since these are useless\n",
        "df.dropna(how='all', inplace=True)\n",
        "\n",
        "\n"
      ],
      "metadata": {
        "id": "e5xMglMIJSfD",
        "colab": {
          "base_uri": "https://localhost:8080/",
          "height": 1000
        },
        "outputId": "4e727674-71fc-4fd6-b1cb-404150db3edb"
      },
      "execution_count": 45,
      "outputs": [
        {
          "output_type": "stream",
          "name": "stdout",
          "text": [
            "\n",
            "\n",
            "********************************************************************************\n",
            "Finding non default missing values for column \"Fatal\"\n",
            "********************************************************************************\n",
            "Column \"Fatal\" has datatype: object\n",
            "\n",
            "\n",
            "----------------------------------------\n",
            "A: Looking at unique values\n",
            "----------------------------------------\n",
            "Less than 160 unique values:\n",
            "Could not sort values\n"
          ]
        },
        {
          "output_type": "display_data",
          "data": {
            "text/plain": [
              "['N', 'Y', nan]"
            ]
          },
          "metadata": {}
        },
        {
          "output_type": "stream",
          "name": "stdout",
          "text": [
            "\n",
            "\n",
            "----------------------------------------\n",
            "B: Sorting and looking at the edges\n",
            "----------------------------------------\n",
            "Could not sort values: '<' not supported between instances of 'float' and 'str'\n",
            "..so let's try filtering NULL values and then sorting\n"
          ]
        },
        {
          "output_type": "display_data",
          "data": {
            "text/plain": [
              "['N', 'Y']"
            ]
          },
          "metadata": {}
        },
        {
          "output_type": "display_data",
          "data": {
            "text/plain": [
              "['N', 'Y']"
            ]
          },
          "metadata": {}
        },
        {
          "output_type": "stream",
          "name": "stdout",
          "text": [
            "\n",
            "\n",
            "----------------------------------------\n",
            "C: Casting to type: bool\n",
            "----------------------------------------\n",
            "Casting to bool was successful\n",
            "\n",
            "\n",
            "----------------------------------------\n",
            "D: Looking at frequency\n",
            "----------------------------------------\n"
          ]
        },
        {
          "output_type": "display_data",
          "data": {
            "text/plain": [
              "NaN    19960\n",
              "N       4374\n",
              "Y       1389\n",
              "Name: Fatal, dtype: int64"
            ]
          },
          "metadata": {}
        },
        {
          "output_type": "stream",
          "name": "stdout",
          "text": [
            "\n",
            "\n",
            "\n",
            "\n",
            "********************************************************************************\n",
            "Finding non default missing values for column \"Species\"\n",
            "********************************************************************************\n",
            "Column \"Species\" has datatype: object\n",
            "\n",
            "\n",
            "----------------------------------------\n",
            "A: Looking at unique values\n",
            "----------------------------------------\n",
            "More than 160\n",
            "\n",
            "\n",
            "----------------------------------------\n",
            "B: Sorting and looking at the edges\n",
            "----------------------------------------\n",
            "Could not sort values: '<' not supported between instances of 'float' and 'str'\n",
            "..so let's try filtering NULL values and then sorting\n"
          ]
        },
        {
          "output_type": "display_data",
          "data": {
            "text/plain": [
              "[' ',\n",
              " ' \"gummy\" shark (Rhizoprionodon or Loxodon) 1.2 m [4\\']',\n",
              " \" 1.5 m [5'] dusky shark\",\n",
              " \" 6' to 8' shark\",\n",
              " \" Blacktip shark, C. maculipinnis. 1.9 m to 2.1 m [6.5' to 7'] \",\n",
              " \" Galapagos shark, 6'\",\n",
              " \" Grey nurse shark,  3 m [10'] \",\n",
              " ' Lemon shark, 3.5 m',\n",
              " ' Raggedtooth shark, 2m',\n",
              " \" Sandbar shark, 3' to 4'\"]"
            ]
          },
          "metadata": {}
        },
        {
          "output_type": "display_data",
          "data": {
            "text/plain": [
              "['small carpet shark',\n",
              " 'small catsharks',\n",
              " 'small hammerhead shark',\n",
              " 'small nurse shark',\n",
              " 'small shark',\n",
              " 'small sharks',\n",
              " \"small sharks'\",\n",
              " 'whaler shark',\n",
              " '\\xa0 ',\n",
              " '“small brown shark”']"
            ]
          },
          "metadata": {}
        },
        {
          "output_type": "stream",
          "name": "stdout",
          "text": [
            "\n",
            "\n",
            "----------------------------------------\n",
            "C: Casting to type: string\n",
            "----------------------------------------\n",
            "Casting to string was successful\n",
            "\n",
            "\n",
            "----------------------------------------\n",
            "D: Looking at frequency\n",
            "----------------------------------------\n"
          ]
        },
        {
          "output_type": "display_data",
          "data": {
            "text/plain": [
              "NaN                                                                                                                              22430\n",
              "White shark                                                                                                                        635\n",
              "Tiger shark                                                                                                                        281\n",
              "Bull shark                                                                                                                         180\n",
              "Reef shark                                                                                                                          67\n",
              "                                                                                                                                 ...  \n",
              "A \"small shark\"                                                                                                                      1\n",
              "Dusky shark, 12'                                                                                                                     1\n",
              "4.5' to 5' shark                                                                                                                     1\n",
              "Lemon shark, 1.5 m [5'], identified  by the surfer                                                                                   1\n",
              "Said to involve a grey nurse shark that leapt out of the water and  seized the boy but species identification is questionable        1\n",
              "Name: Species, Length: 920, dtype: int64"
            ]
          },
          "metadata": {}
        },
        {
          "output_type": "stream",
          "name": "stdout",
          "text": [
            "\n",
            "\n"
          ]
        }
      ]
    },
    {
      "cell_type": "markdown",
      "source": [
        "#What are the most dangerous types of sharks to humans?\n",
        "\n",
        "To view the most dangerous types we'll have a look at the 10 types of species causing the most casualties in the data set. Though there is no good data set on the population of sharks, which means you cannot say with certainty one species is more dangerous than the other, because the species causing the most issues might have a bigger population than other species. What you can say though is that White sharks caused the most attacks, followed by tiger sharks and bull sharks. \n",
        "\n",
        "When exploring the data, you could see there are many rows which mention the size of the shark in the \"Type\" column. However, the size (such as \"4 inch\") is not a type, but it might give an indication of the type of shark. The types of sharks (white, tiger, bull etc.) probably all have a certain size range, so it might be that you could derive the type of shark from the size. However, to do this, you would need a shark expert. In this case, we've chosen to keep these rows as is. "
      ],
      "metadata": {
        "id": "RQ7NWw-7L7LV"
      }
    },
    {
      "cell_type": "code",
      "source": [
        "dfsharkspeciescount = df[\"Species\"].value_counts().head(10).to_frame()\n",
        "\n",
        "xvalues = dfsharkspeciescount.index\n",
        "yvalues = dfsharkspeciescount[\"Species\"]\n",
        "\n",
        "\n",
        "fig, ax = plt.subplots()\n",
        "ax.barh(xvalues, yvalues)\n",
        "fig.set_size_inches(20, 10)\n",
        "plt.title(\"Most dangerous shark species\")\n",
        "plt.xlabel(\"Number of attacks\")\n",
        "plt.ylabel(\"Species\")\n",
        "ax.invert_yaxis()\n",
        "plt.show()"
      ],
      "metadata": {
        "colab": {
          "base_uri": "https://localhost:8080/",
          "height": 621
        },
        "id": "oCk5xqlsNk6k",
        "outputId": "02a91a7f-a410-4b31-c013-cc53ffa6f2b2"
      },
      "execution_count": 46,
      "outputs": [
        {
          "output_type": "display_data",
          "data": {
            "text/plain": [
              "<Figure size 1440x720 with 1 Axes>"
            ],
            "image/png": "[encoded data removed]"
          },
          "metadata": {
            "needs_background": "light"
          }
        }
      ]
    },
    {
      "cell_type": "markdown",
      "source": [
        "# Are Children more likely to get attacked by sharks?\n",
        "\n",
        "Conclusion: no, children are not more likely to get attacked by sharks. The age group 11 - 20 is most likely to be attacked by sharks, followed by the age group of 21 - 30. Though there are some decisions made when cleaning the data which had an effect on the outcome. All rows where there was no number (so also the rows with multiple ages) mentioned, were left out. Though this does not necessarily lead to bias, since these rows concerned victims of all age groups. "
      ],
      "metadata": {
        "id": "wYL20nin4qZd"
      }
    },
    {
      "cell_type": "code",
      "source": [
        "#Get the number of attacks per age\n",
        "groupedagedata = df.dropna(subset=[\"Age\"])\n",
        "groupedagedata = df.groupby(\"Age\")[\"Case Number\"].count()\n",
        "display(groupedagedata.head(30))\n",
        "\n",
        "#create a histogram with bins with a range of ages. Each bin has 10 ages\n",
        "binslabels = [\"1-10\", \"11-20\", \"21-30\", \"31-40\", \"41-50\", \"51-60\", \"61-70\", \"71-80\", \"81-90\"]\n",
        "bins = [1, 11, 21, 31, 41, 51, 61, 71, 81, 90]\n",
        "\n",
        "#binsdata = pd.cut(df['Age'], [0,10, 20, 30, 40, 50, 60, 70, 80, 90], labels= binslabels, include_lowest=True).value_counts()\n",
        "\n",
        "\n",
        "\n",
        "dfwithage = df.dropna(subset=[\"Age\"])\n",
        "display(dfwithage)\n",
        "\n",
        "fig, ax = plt.subplots()\n",
        "plt.hist(dfwithage[\"Age\"], bins=bins, histtype='bar', ec='black', align='left')\n",
        "ax.set_xticks(bins) #do this to set the ticks in each bar/bin\n",
        "ax.set_xticklabels(binslabels,rotation=45)\n",
        "fig.set_size_inches(20, 10)\n",
        "plt.title(\"Attacks per age group\")\n",
        "plt.xlabel(\"Age group\")\n",
        "plt.ylabel(\"Number of attacks\")\n",
        "plt.grid(axis=\"y\")\n",
        "plt.show()\n",
        "\n"
      ],
      "metadata": {
        "colab": {
          "base_uri": "https://localhost:8080/",
          "height": 1000
        },
        "id": "mG74ZLQ64wKF",
        "outputId": "0d38124f-0917-44b4-d9eb-e372bc215add"
      },
      "execution_count": 47,
      "outputs": [
        {
          "output_type": "display_data",
          "data": {
            "text/plain": [
              "Age\n",
              "1       2\n",
              "3       5\n",
              "5       7\n",
              "6      14\n",
              "7      18\n",
              "8      25\n",
              "9      31\n",
              "10     53\n",
              "11     33\n",
              "12     69\n",
              "13     92\n",
              "14     98\n",
              "15    138\n",
              "16    137\n",
              "17    146\n",
              "18    147\n",
              "19    140\n",
              "20    138\n",
              "21    114\n",
              "22    113\n",
              "23     78\n",
              "24    103\n",
              "25    105\n",
              "26     81\n",
              "27     75\n",
              "28     79\n",
              "29     75\n",
              "30     76\n",
              "31     49\n",
              "32     69\n",
              "Name: Case Number, dtype: int64"
            ]
          },
          "metadata": {}
        },
        {
          "output_type": "display_data",
          "data": {
            "text/plain": [
              "       Case Number        Type  \\\n",
              "0       2018.06.25     Boating   \n",
              "1       2018.06.18  Unprovoked   \n",
              "2       2018.06.09     Invalid   \n",
              "6     2018.06.03.a  Unprovoked   \n",
              "7       2018.05.27  Unprovoked   \n",
              "...            ...         ...   \n",
              "6242       ND.0064  Unprovoked   \n",
              "6243       ND.0063  Unprovoked   \n",
              "6254       ND.0051    Provoked   \n",
              "6276       ND.0026  Unprovoked   \n",
              "6301       ND.0001  Unprovoked   \n",
              "\n",
              "                                               Activity  Age Fatal  \\\n",
              "0                                              Paddling   57     N   \n",
              "1                                              Standing   11     N   \n",
              "2                                               Surfing   48     N   \n",
              "6                                              Swimming   18     Y   \n",
              "7                                               Fishing   52     N   \n",
              "...                                                 ...  ...   ...   \n",
              "6242  Swimming naked near a date palm where many dat...    6     N   \n",
              "6243  Swimming in section of river used for washing ...   16     N   \n",
              "6254                   Shark fishing, knocked overboard   50     Y   \n",
              "6276                                           Standing   16     Y   \n",
              "6301                                           Swimming   15     Y   \n",
              "\n",
              "          Species  \n",
              "0     White shark  \n",
              "1             NaN  \n",
              "2             NaN  \n",
              "6     Tiger shark  \n",
              "7     Lemon shark  \n",
              "...           ...  \n",
              "6242   Bull shark  \n",
              "6243   Bull shark  \n",
              "6254          NaN  \n",
              "6276  Tiger shark  \n",
              "6301          NaN  \n",
              "\n",
              "[3249 rows x 6 columns]"
            ],
            "text/html": [
              "\n",
              "  <div id=\"df-bccc14d2-ed52-4814-87d3-a8cdefe118b1\">\n",
              "    <div class=\"colab-df-container\">\n",
              "      <div>\n",
              "<style scoped>\n",
              "    .dataframe tbody tr th:only-of-type {\n",
              "        vertical-align: middle;\n",
              "    }\n",
              "\n",
              "    .dataframe tbody tr th {\n",
              "        vertical-align: top;\n",
              "    }\n",
              "\n",
              "    .dataframe thead th {\n",
              "        text-align: right;\n",
              "    }\n",
              "</style>\n",
              "<table border=\"1\" class=\"dataframe\">\n",
              "  <thead>\n",
              "    <tr style=\"text-align: right;\">\n",
              "      <th></th>\n",
              "      <th>Case Number</th>\n",
              "      <th>Type</th>\n",
              "      <th>Activity</th>\n",
              "      <th>Age</th>\n",
              "      <th>Fatal</th>\n",
              "      <th>Species</th>\n",
              "    </tr>\n",
              "  </thead>\n",
              "  <tbody>\n",
              "    <tr>\n",
              "      <th>0</th>\n",
              "      <td>2018.06.25</td>\n",
              "      <td>Boating</td>\n",
              "      <td>Paddling</td>\n",
              "      <td>57</td>\n",
              "      <td>N</td>\n",
              "      <td>White shark</td>\n",
              "    </tr>\n",
              "    <tr>\n",
              "      <th>1</th>\n",
              "      <td>2018.06.18</td>\n",
              "      <td>Unprovoked</td>\n",
              "      <td>Standing</td>\n",
              "      <td>11</td>\n",
              "      <td>N</td>\n",
              "      <td>NaN</td>\n",
              "    </tr>\n",
              "    <tr>\n",
              "      <th>2</th>\n",
              "      <td>2018.06.09</td>\n",
              "      <td>Invalid</td>\n",
              "      <td>Surfing</td>\n",
              "      <td>48</td>\n",
              "      <td>N</td>\n",
              "      <td>NaN</td>\n",
              "    </tr>\n",
              "    <tr>\n",
              "      <th>6</th>\n",
              "      <td>2018.06.03.a</td>\n",
              "      <td>Unprovoked</td>\n",
              "      <td>Swimming</td>\n",
              "      <td>18</td>\n",
              "      <td>Y</td>\n",
              "      <td>Tiger shark</td>\n",
              "    </tr>\n",
              "    <tr>\n",
              "      <th>7</th>\n",
              "      <td>2018.05.27</td>\n",
              "      <td>Unprovoked</td>\n",
              "      <td>Fishing</td>\n",
              "      <td>52</td>\n",
              "      <td>N</td>\n",
              "      <td>Lemon shark</td>\n",
              "    </tr>\n",
              "    <tr>\n",
              "      <th>...</th>\n",
              "      <td>...</td>\n",
              "      <td>...</td>\n",
              "      <td>...</td>\n",
              "      <td>...</td>\n",
              "      <td>...</td>\n",
              "      <td>...</td>\n",
              "    </tr>\n",
              "    <tr>\n",
              "      <th>6242</th>\n",
              "      <td>ND.0064</td>\n",
              "      <td>Unprovoked</td>\n",
              "      <td>Swimming naked near a date palm where many dat...</td>\n",
              "      <td>6</td>\n",
              "      <td>N</td>\n",
              "      <td>Bull shark</td>\n",
              "    </tr>\n",
              "    <tr>\n",
              "      <th>6243</th>\n",
              "      <td>ND.0063</td>\n",
              "      <td>Unprovoked</td>\n",
              "      <td>Swimming in section of river used for washing ...</td>\n",
              "      <td>16</td>\n",
              "      <td>N</td>\n",
              "      <td>Bull shark</td>\n",
              "    </tr>\n",
              "    <tr>\n",
              "      <th>6254</th>\n",
              "      <td>ND.0051</td>\n",
              "      <td>Provoked</td>\n",
              "      <td>Shark fishing, knocked overboard</td>\n",
              "      <td>50</td>\n",
              "      <td>Y</td>\n",
              "      <td>NaN</td>\n",
              "    </tr>\n",
              "    <tr>\n",
              "      <th>6276</th>\n",
              "      <td>ND.0026</td>\n",
              "      <td>Unprovoked</td>\n",
              "      <td>Standing</td>\n",
              "      <td>16</td>\n",
              "      <td>Y</td>\n",
              "      <td>Tiger shark</td>\n",
              "    </tr>\n",
              "    <tr>\n",
              "      <th>6301</th>\n",
              "      <td>ND.0001</td>\n",
              "      <td>Unprovoked</td>\n",
              "      <td>Swimming</td>\n",
              "      <td>15</td>\n",
              "      <td>Y</td>\n",
              "      <td>NaN</td>\n",
              "    </tr>\n",
              "  </tbody>\n",
              "</table>\n",
              "<p>3249 rows × 6 columns</p>\n",
              "</div>\n",
              "      <button class=\"colab-df-convert\" onclick=\"convertToInteractive('df-bccc14d2-ed52-4814-87d3-a8cdefe118b1')\"\n",
              "              title=\"Convert this dataframe to an interactive table.\"\n",
              "              style=\"display:none;\">\n",
              "        \n",
              "  <svg xmlns=\"http://www.w3.org/2000/svg\" height=\"24px\"viewBox=\"0 0 24 24\"\n",
              "       width=\"24px\">\n",
              "    <path d=\"M0 0h24v24H0V0z\" fill=\"none\"/>\n",
              "    <path d=\"M18.56 5.44l.94 2.06.94-2.06 2.06-.94-2.06-.94-.94-2.06-.94 2.06-2.06.94zm-11 1L8.5 8.5l.94-2.06 2.06-.94-2.06-.94L8.5 2.5l-.94 2.06-2.06.94zm10 10l.94 2.06.94-2.06 2.06-.94-2.06-.94-.94-2.06-.94 2.06-2.06.94z\"/><path d=\"M17.41 7.96l-1.37-1.37c-.4-.4-.92-.59-1.43-.59-.52 0-1.04.2-1.43.59L10.3 9.45l-7.72 7.72c-.78.78-.78 2.05 0 2.83L4 21.41c.39.39.9.59 1.41.59.51 0 1.02-.2 1.41-.59l7.78-7.78 2.81-2.81c.8-.78.8-2.07 0-2.86zM5.41 20L4 18.59l7.72-7.72 1.47 1.35L5.41 20z\"/>\n",
              "  </svg>\n",
              "      </button>\n",
              "      \n",
              "  <style>\n",
              "    .colab-df-container {\n",
              "      display:flex;\n",
              "      flex-wrap:wrap;\n",
              "      gap: 12px;\n",
              "    }\n",
              "\n",
              "    .colab-df-convert {\n",
              "      background-color: #E8F0FE;\n",
              "      border: none;\n",
              "      border-radius: 50%;\n",
              "      cursor: pointer;\n",
              "      display: none;\n",
              "      fill: #1967D2;\n",
              "      height: 32px;\n",
              "      padding: 0 0 0 0;\n",
              "      width: 32px;\n",
              "    }\n",
              "\n",
              "    .colab-df-convert:hover {\n",
              "      background-color: #E2EBFA;\n",
              "      box-shadow: 0px 1px 2px rgba(60, 64, 67, 0.3), 0px 1px 3px 1px rgba(60, 64, 67, 0.15);\n",
              "      fill: #174EA6;\n",
              "    }\n",
              "\n",
              "    [theme=dark] .colab-df-convert {\n",
              "      background-color: #3B4455;\n",
              "      fill: #D2E3FC;\n",
              "    }\n",
              "\n",
              "    [theme=dark] .colab-df-convert:hover {\n",
              "      background-color: #434B5C;\n",
              "      box-shadow: 0px 1px 3px 1px rgba(0, 0, 0, 0.15);\n",
              "      filter: drop-shadow(0px 1px 2px rgba(0, 0, 0, 0.3));\n",
              "      fill: #FFFFFF;\n",
              "    }\n",
              "  </style>\n",
              "\n",
              "      <script>\n",
              "        const buttonEl =\n",
              "          document.querySelector('#df-bccc14d2-ed52-4814-87d3-a8cdefe118b1 button.colab-df-convert');\n",
              "        buttonEl.style.display =\n",
              "          google.colab.kernel.accessAllowed ? 'block' : 'none';\n",
              "\n",
              "        async function convertToInteractive(key) {\n",
              "          const element = document.querySelector('#df-bccc14d2-ed52-4814-87d3-a8cdefe118b1');\n",
              "          const dataTable =\n",
              "            await google.colab.kernel.invokeFunction('convertToInteractive',\n",
              "                                                     [key], {});\n",
              "          if (!dataTable) return;\n",
              "\n",
              "          const docLinkHtml = 'Like what you see? Visit the ' +\n",
              "            '<a target=\"_blank\" href=https://colab.research.google.com/notebooks/data_table.ipynb>data table notebook</a>'\n",
              "            + ' to learn more about interactive tables.';\n",
              "          element.innerHTML = '';\n",
              "          dataTable['output_type'] = 'display_data';\n",
              "          await google.colab.output.renderOutput(dataTable, element);\n",
              "          const docLink = document.createElement('div');\n",
              "          docLink.innerHTML = docLinkHtml;\n",
              "          element.appendChild(docLink);\n",
              "        }\n",
              "      </script>\n",
              "    </div>\n",
              "  </div>\n",
              "  "
            ]
          },
          "metadata": {}
        },
        {
          "output_type": "display_data",
          "data": {
            "text/plain": [
              "<Figure size 1440x720 with 1 Axes>"
            ],
            "image/png": "[encoded data removed]"
          },
          "metadata": {
            "needs_background": "light"
          }
        }
      ]
    },
    {
      "cell_type": "markdown",
      "source": [
        "# Are shark attacks where sharks were provoked more or less dangerous?\n",
        "There is an indication that shark attacks where sharks were provoked are less dangerous, because the percentage of fatal attacks is lower compared to unprovoked attacks. However, the total number of provoked attacks is much lower than the number of unprovoked attacks (250 vs. 4000), so there is not enough data on provoked attacks to be able to draw a hard conclusion. "
      ],
      "metadata": {
        "id": "vpfKMZVk7GJT"
      }
    },
    {
      "cell_type": "code",
      "source": [
        "#Get the number of fatal and non fatal attacks, both provoked and unprovoked attacks\n",
        "provokedfatalcount = len(df.loc[(df[\"Fatal\"] == \"Y\") & (df[\"Type\"] == \"Provoked\")].index)\n",
        "nonprovokedfatalcount = len(df.loc[(df[\"Fatal\"] ==\"Y\") & (df[\"Type\"] == \"Unprovoked\")].index)\n",
        "provokednonfatalcount = len(df.loc[(df[\"Fatal\"] == \"N\") & (df[\"Type\"] == \"Provoked\")].index)\n",
        "nonprovokednonfatalcount = len(df.loc[(df[\"Fatal\"] == \"N\") & (df[\"Type\"] == \"Unprovoked\")].index)\n",
        "\n",
        "\n",
        "#Calculate percentages of fatal attacks, for both provoked and unprovoked attacks\n",
        "Fatalpercentageprovoked = round(provokedfatalcount / (provokedfatalcount + provokednonfatalcount) * 100, 2)\n",
        "Fatalpercentagenonprovoked = round(nonprovokedfatalcount / (nonprovokedfatalcount + nonprovokednonfatalcount) * 100, 2)\n",
        "\n",
        "#prepare data for graph. Decided to make a stacked bar chart, with one bar for provoked attacks and one for\n",
        "labels = [\"Provoked\", \"Not provoked\"]\n",
        "Fatalcounts = [provokedfatalcount, nonprovokedfatalcount]\n",
        "NonFatalcounts = [provokednonfatalcount,nonprovokednonfatalcount]\n",
        "\n",
        "fig, ax = plt.subplots()\n",
        "plt.bar(labels, Fatalcounts, label=\"Fatal\")\n",
        "plt.bar(labels, NonFatalcounts, bottom=Fatalcounts, label = \"Not fatal\")\n",
        "fig.set_size_inches(20, 10)\n",
        "plt.title(\"Number of fatal/non fatal attacks when shark was provoked and not provoked\")\n",
        "plt.xlabel(\"Provoked y/n\")\n",
        "plt.ylabel(\"Number of cases\")\n",
        "plt.grid(axis=\"y\")\n",
        "ax.legend()\n",
        "plt.show()\n",
        "\n",
        "display(f\"The percentage of fatal attacks when sharks were provoked is {Fatalpercentageprovoked}%\")\n",
        "display(f\"The percentage of fatal attacks when sharks were not provoked is {Fatalpercentagenonprovoked}%\")"
      ],
      "metadata": {
        "colab": {
          "base_uri": "https://localhost:8080/",
          "height": 658
        },
        "id": "Lgwt0yvU7Khb",
        "outputId": "438315e6-468e-436a-c021-4f3a55a3d946"
      },
      "execution_count": 48,
      "outputs": [
        {
          "output_type": "display_data",
          "data": {
            "text/plain": [
              "<Figure size 1440x720 with 1 Axes>"
            ],
            "image/png": "[encoded data removed]"
          },
          "metadata": {
            "needs_background": "light"
          }
        },
        {
          "output_type": "display_data",
          "data": {
            "text/plain": [
              "'The percentage of fatal attacks when sharks were provoked is 3.32%'"
            ],
            "application/vnd.google.colaboratory.intrinsic+json": {
              "type": "string"
            }
          },
          "metadata": {}
        },
        {
          "output_type": "display_data",
          "data": {
            "text/plain": [
              "'The percentage of fatal attacks when sharks were not provoked is 25.75%'"
            ],
            "application/vnd.google.colaboratory.intrinsic+json": {
              "type": "string"
            }
          },
          "metadata": {}
        }
      ]
    },
    {
      "cell_type": "markdown",
      "source": [
        "# Are certain activities more likely to result in a shark attack?\n",
        "The most shark attacks occured when the victims were fishing, surfing and swimming. Note: to simplify the analysis, we did not make a distinction between different types of fishing, diving, surfing and swimming. So for example \"Body surfing\" and \"Wind surfing\" were all regarded as \"Surfing\". \n",
        "\n",
        "Though fishing, surfing and swimming were the activities which were performed when most attacks happened, you cannot say people are more likely to get attacked by a shark when doing one of these activities, for multiple reasons:\n",
        "\n",
        "First, there is no good data source on the total number of people performing these and other activities. Since fishing, surfing and swimming are probably the water activities people do the most, it is not surprising the number of attacks related to these activities is higher. \n",
        "Second, there are probably many other (area-specific) factors which should be taken into account which are not included in the dataset, such as the shallowness of the water on the exact location of the attack. It would therefore make more sense to compare the attacks within one area/region, but that is beyond the scope of this assignment. "
      ],
      "metadata": {
        "id": "AyC9tjwv6C2J"
      }
    },
    {
      "cell_type": "code",
      "source": [
        "# Filter out rows where activity is null and then group and sort\n",
        "df2 = df.dropna(subset=[\"Activity\"])\n",
        "groupeddf2 = df2.groupby([\"Activity\"])[\"Case Number\"].count().to_frame()\n",
        "sortedgroupeddf2 = groupeddf2.sort_values(by=['Case Number'], ascending = False)\n",
        "#display(sortedgroupeddf2) # You can see there are many rows which contain the word \"fishing\". We should transform all these values into one. Do the same for diving, swimming and surfing\n",
        "\n",
        "# Transform all strings containing a substring to the correct activity string\n",
        "df2.loc[df2[\"Activity\"].str.contains(\"fishing\", na=False, case=False), \"Activity\"] = \"Fishing\"\n",
        "df2.loc[df2[\"Activity\"].str.contains(\"diving\", na=False, case=False), \"Activity\"] = \"Diving\"\n",
        "df2.loc[df2[\"Activity\"].str.contains(\"swimming\", na=False, case=False), \"Activity\"] = \"Swimming\"\n",
        "df2.loc[df2[\"Activity\"].str.contains(\"surfing\", na=False, case=False), \"Activity\"] = \"Surfing\"\n",
        "\n",
        "# Group and sort again\n",
        "groupeddf2 = df2.groupby([\"Activity\"])[\"Case Number\"].count().to_frame()\n",
        "sortedgroupeddf2 = groupeddf2.sort_values(by=['Case Number'], ascending = False)\n",
        "#display(sortedgroupeddf2)\n",
        "\n",
        "# Create horizontal bar chart to compare attacks per activity\n",
        "dfhead = sortedgroupeddf2.head(20)\n",
        "fig, ax = plt.subplots()\n",
        "ax.barh( dfhead.index, dfhead[\"Case Number\"] )\n",
        "fig.set_size_inches(20, 10)\n",
        "plt.title(\"Number of shark attacks per activity\")\n",
        "plt.xlabel(\"Number of attacks\")\n",
        "plt.ylabel(\"Activity\")\n",
        "plt.grid(axis=\"x\")\n",
        "ax.invert_yaxis()\n",
        "plt.show()"
      ],
      "metadata": {
        "colab": {
          "base_uri": "https://localhost:8080/",
          "height": 725
        },
        "id": "Xj8WucSB6MhI",
        "outputId": "7771f703-aeb6-4bd1-b0e3-74f4b4b1018a"
      },
      "execution_count": 49,
      "outputs": [
        {
          "output_type": "stream",
          "name": "stderr",
          "text": [
            "/usr/local/lib/python3.8/dist-packages/pandas/core/indexing.py:1817: SettingWithCopyWarning: \n",
            "A value is trying to be set on a copy of a slice from a DataFrame.\n",
            "Try using .loc[row_indexer,col_indexer] = value instead\n",
            "\n",
            "See the caveats in the documentation: https://pandas.pydata.org/pandas-docs/stable/user_guide/indexing.html#returning-a-view-versus-a-copy\n",
            "  self._setitem_single_column(loc, value, pi)\n"
          ]
        },
        {
          "output_type": "display_data",
          "data": {
            "text/plain": [
              "<Figure size 1440x720 with 1 Axes>"
            ],
            "image/png": "[encoded data removed]"
          },
          "metadata": {
            "needs_background": "light"
          }
        }
      ]
    }
  ]
}